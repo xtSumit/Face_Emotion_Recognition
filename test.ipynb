{
  "nbformat": 4,
  "nbformat_minor": 0,
  "metadata": {
    "colab": {
      "name": "test.ipynb",
      "provenance": []
    },
    "kernelspec": {
      "name": "python3",
      "display_name": "Python 3"
    }
  },
  "cells": [
    {
      "cell_type": "code",
      "metadata": {
        "id": "9l4hpqIQ_RL7"
      },
      "source": [
        "import tensorflow as tf\r\n",
        "import numpy as np\r\n",
        "import matplotlib.pyplot as plt\r\n",
        "from tensorflow.keras.preprocessing import image\r\n",
        "# from tensorflow.keras.preprocessing.image import ImageDataGenerator\r\n",
        "# from tensorflow.keras.applications.resnet import ResNet50\r\n",
        "from tensorflow.keras.applications.vgg16 import preprocess_input\r\n",
        "# from tensorflow.keras.applications import MobileNet,vgg16"
      ],
      "execution_count": 1,
      "outputs": []
    },
    {
      "cell_type": "code",
      "metadata": {
        "id": "OjozbFsd_YYh"
      },
      "source": [
        "from tensorflow.keras.models import load_model\r\n",
        "model = load_model('/content/drive/MyDrive/FacialExpressionsRecognition/covnet_model_face.h5')"
      ],
      "execution_count": 2,
      "outputs": []
    },
    {
      "cell_type": "code",
      "metadata": {
        "id": "Hy2YtaOd_r0R"
      },
      "source": [
        "img = image.load_img('/content/fear.png',\r\n",
        "                     target_size=(48,48),color_mode=\"grayscale\")"
      ],
      "execution_count": 18,
      "outputs": []
    },
    {
      "cell_type": "code",
      "metadata": {
        "colab": {
          "base_uri": "https://localhost:8080/",
          "height": 285
        },
        "id": "DFRkdGbJ_7ga",
        "outputId": "a3ed889e-3659-4901-b24e-6bd04e0553e9"
      },
      "source": [
        "plt.imshow(img)"
      ],
      "execution_count": 19,
      "outputs": [
        {
          "output_type": "execute_result",
          "data": {
            "text/plain": [
              "<matplotlib.image.AxesImage at 0x7f3d14644f50>"
            ]
          },
          "metadata": {
            "tags": []
          },
          "execution_count": 19
        },
        {
          "output_type": "display_data",
          "data": {
            "image/png": "[encoded data removed]",
            "text/plain": [
              "<Figure size 432x288 with 1 Axes>"
            ]
          },
          "metadata": {
            "tags": [],
            "needs_background": "light"
          }
        }
      ]
    },
    {
      "cell_type": "code",
      "metadata": {
        "id": "bP3wPJoSAlnx"
      },
      "source": [
        "x = image.img_to_array(img)\r\n",
        "x = np.expand_dims(x, axis = 0)\r\n",
        "x /= 255"
      ],
      "execution_count": 20,
      "outputs": []
    },
    {
      "cell_type": "code",
      "metadata": {
        "colab": {
          "base_uri": "https://localhost:8080/"
        },
        "id": "s7Za0b5sAwqk",
        "outputId": "d3865ac2-781c-433f-968f-dca462b389f7"
      },
      "source": [
        "model.predict(x)"
      ],
      "execution_count": 21,
      "outputs": [
        {
          "output_type": "execute_result",
          "data": {
            "text/plain": [
              "array([[0.01763725, 0.00811008, 0.5393481 , 0.3892636 , 0.045641  ]],\n",
              "      dtype=float32)"
            ]
          },
          "metadata": {
            "tags": []
          },
          "execution_count": 21
        }
      ]
    },
    {
      "cell_type": "code",
      "metadata": {
        "id": "aLwvrRpjDvtn",
        "colab": {
          "base_uri": "https://localhost:8080/"
        },
        "outputId": "8b42032c-8376-4265-c7de-e37f82091f9c"
      },
      "source": [
        "np.round(model.predict(x))"
      ],
      "execution_count": 22,
      "outputs": [
        {
          "output_type": "execute_result",
          "data": {
            "text/plain": [
              "array([[0., 0., 1., 0., 0.]], dtype=float32)"
            ]
          },
          "metadata": {
            "tags": []
          },
          "execution_count": 22
        }
      ]
    },
    {
      "cell_type": "code",
      "metadata": {
        "id": "Z1lySJ80BL3E"
      },
      "source": [
        "a=np.argmax(model.predict(x))\r\n"
      ],
      "execution_count": 23,
      "outputs": []
    },
    {
      "cell_type": "code",
      "metadata": {
        "id": "7_5pyjpBDlXh",
        "colab": {
          "base_uri": "https://localhost:8080/"
        },
        "outputId": "3f255004-d4ae-4d83-8d8f-7bc4868b80a7"
      },
      "source": [
        "if a == 0:\r\n",
        "  print('Angry')\r\n",
        "elif a == 1:\r\n",
        "  print('Happy')\r\n",
        "elif a == 2:\r\n",
        "  print('Fear')\r\n",
        "elif a == 3:\r\n",
        "  print('Sad')\r\n",
        "else:\r\n",
        "  print('Surprise')      "
      ],
      "execution_count": 24,
      "outputs": [
        {
          "output_type": "stream",
          "text": [
            "Fear\n"
          ],
          "name": "stdout"
        }
      ]
    },
    {
      "cell_type": "code",
      "metadata": {
        "id": "SusZ3GQ_UGmk"
      },
      "source": [
        ""
      ],
      "execution_count": null,
      "outputs": []
    }
  ]
}